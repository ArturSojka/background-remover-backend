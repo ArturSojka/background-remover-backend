{
 "cells": [
  {
   "cell_type": "markdown",
   "id": "a9083b20",
   "metadata": {},
   "source": [
    "## Erap 1 - Uczenie Nadzorowane"
   ]
  },
  {
   "cell_type": "code",
   "execution_count": 1,
   "id": "7090653d",
   "metadata": {},
   "outputs": [],
   "source": [
    "from MODNet.train import supervised_training\n",
    "import torch"
   ]
  },
  {
   "cell_type": "markdown",
   "id": "263d8a5b",
   "metadata": {},
   "source": [
    "Ścieżki do plików z danymi:"
   ]
  },
  {
   "cell_type": "code",
   "execution_count": 2,
   "id": "14bf6f07",
   "metadata": {},
   "outputs": [],
   "source": [
    "natural_path = \"D:\\\\natural.h5\"\n",
    "synthetic_path = \"D:\\\\synthetic.h5\"\n",
    "background_path = \"D:\\\\backgrounds.h5\""
   ]
  },
  {
   "cell_type": "code",
   "execution_count": null,
   "id": "482c5098",
   "metadata": {},
   "outputs": [],
   "source": [
    "device = 'cuda' if torch.cuda.is_available() else 'cpu'\n",
    "print(f\"Training will use {device}\")"
   ]
  },
  {
   "cell_type": "markdown",
   "id": "50ac6f07",
   "metadata": {},
   "source": [
    "#### Pęla uczenia\n",
    "\n",
    "Checkpointy zapisywane są po obliczeniu metryk walidacyjnych.\n",
    "- Stworzenie pliku ./training/supervised/STOP_TRAINING spowoduje przerwanie uczenia po następnym zapisie.\n",
    "- Uczenie można wznowić podając opcję `resume=True`\n",
    "\n",
    "Opcja `save_steps` określa jak często odbywa się walidacja i zapisywanie\n",
    "- Większe wartości przyspieszają uczenie.\n",
    "- Mniejsze wartości zmniejszają czas między zapisami, zwiększając prawdopodobieństwo zapisania najlepszego modelu i powodując częstsze czyszczenie pamięci GPU.\n",
    "\n",
    "Większy `batch_size` powinno przyspieszyć uczenie, ale może spowodować, że na GPU skończy się pamięć.\n",
    "- Przykładowe wartości: `save_steps=1000, batch_size=32`, `save_steps=2000, batch_size=16`, `save_steps=4000, batch_size=8`"
   ]
  },
  {
   "cell_type": "code",
   "execution_count": null,
   "id": "3964af4a",
   "metadata": {},
   "outputs": [],
   "source": [
    "supervised_training(natural_path, synthetic_path, background_path, device, epochs=40, save_steps=4000, batch_size=48)"
   ]
  },
  {
   "cell_type": "markdown",
   "id": "f3291f64",
   "metadata": {},
   "source": [
    "Po przerwaniu lub zakończeniu uczenia z jakiegokolwiek powodu **zrestartuj kernel Pythona**."
   ]
  },
  {
   "cell_type": "markdown",
   "id": "7e862776",
   "metadata": {},
   "source": [
    "## Etap 2 - Uczenie Samonadzorowane"
   ]
  },
  {
   "cell_type": "code",
   "execution_count": 1,
   "id": "7a7dcebe",
   "metadata": {},
   "outputs": [],
   "source": [
    "from MODNet.train import self_supervised_training\n",
    "from MODNet.src.models.modnet import MODNet\n",
    "import torch"
   ]
  },
  {
   "cell_type": "markdown",
   "id": "9122a344",
   "metadata": {},
   "source": [
    "Ścieżka do najlepszego modelu wytrenowanego w poprzednim etapie:"
   ]
  },
  {
   "cell_type": "code",
   "execution_count": 2,
   "id": "2e17c8ca",
   "metadata": {},
   "outputs": [],
   "source": [
    "best_model_path = \"./training/supervised/best.pth\""
   ]
  },
  {
   "cell_type": "code",
   "execution_count": 3,
   "id": "2c920c2d",
   "metadata": {},
   "outputs": [
    {
     "data": {
      "text/plain": [
       "<All keys matched successfully>"
      ]
     },
     "execution_count": 3,
     "metadata": {},
     "output_type": "execute_result"
    }
   ],
   "source": [
    "modnet = torch.nn.DataParallel(MODNet(backbone_pretrained=False))\n",
    "modnet.load_state_dict(torch.load(best_model_path))"
   ]
  },
  {
   "cell_type": "markdown",
   "id": "1dcb1664",
   "metadata": {},
   "source": [
    "Ścieżka do pliku z danymi:"
   ]
  },
  {
   "cell_type": "code",
   "execution_count": 4,
   "id": "a510b1e3",
   "metadata": {},
   "outputs": [],
   "source": [
    "file_path = \"D:\\\\self-supervised.h5\""
   ]
  },
  {
   "cell_type": "code",
   "execution_count": null,
   "id": "118c1355",
   "metadata": {},
   "outputs": [],
   "source": [
    "device = 'cuda' if torch.cuda.is_available() else 'cpu'\n",
    "print(f\"Training will use {device}\")"
   ]
  },
  {
   "cell_type": "markdown",
   "id": "de10bdb1",
   "metadata": {},
   "source": [
    "#### Pęla uczenia\n",
    "\n",
    "Checkpointy zapisywane są po `save_steps` krokach.\n",
    "- Stworzenie pliku ./training/supervised/STOP_TRAINING spowoduje przerwanie uczenia po następnym zapisie.\n",
    "- Uczenie można wznowić podając opcję `resume=True`\n",
    "- Mniejszy wpływ na uczenie niż w poprzednim etapie"
   ]
  },
  {
   "cell_type": "code",
   "execution_count": null,
   "id": "d1ee29db",
   "metadata": {},
   "outputs": [],
   "source": [
    "self_supervised_training(modnet, file_path, device, save_steps=10000)"
   ]
  },
  {
   "cell_type": "markdown",
   "id": "7bea9379",
   "metadata": {},
   "source": [
    "Po przerwaniu lub zakończeniu uczenia z jakiegokolwiek powodu **zrestartuj kernel Pythona**."
   ]
  }
 ],
 "metadata": {
  "kernelspec": {
   "display_name": ".venv",
   "language": "python",
   "name": "python3"
  },
  "language_info": {
   "codemirror_mode": {
    "name": "ipython",
    "version": 3
   },
   "file_extension": ".py",
   "mimetype": "text/x-python",
   "name": "python",
   "nbconvert_exporter": "python",
   "pygments_lexer": "ipython3",
   "version": "3.11.8"
  }
 },
 "nbformat": 4,
 "nbformat_minor": 5
}
